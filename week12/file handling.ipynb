{
 "cells": [
  {
   "cell_type": "markdown",
   "metadata": {
    "id": "f2Q1w6dliXUt"
   },
   "source": [
    "# <center>CS568:Deep Learning</center>  <center>Fall 2020</center>"
   ]
  },
  {
   "cell_type": "markdown",
   "metadata": {
    "id": "xy0Vgt1WikRO"
   },
   "source": [
    "### File formats and loading\n",
    "\n",
    " - .txt: plain text file\n",
    " - .pkl: python objects\n",
    " - .csv: tabular data - fields separated by commas\n",
    " - .npz: zipped archive of npy files\n",
    " - .npy: numpy arrays (saved using numpy library)\n",
    " \n",
    "Four different modes to open a file:\n",
    "+ **r** - Read - Default value. Opens a file for reading, error if the file does not exist\n",
    "+ **a** - Append - Opens a file for appending, creates the file if it does not exist\n",
    "+ **w** - Write - Opens a file for writing, creates the file if it does not exist\n",
    "+ **x** - Create - Creates the specified file, returns an error if the file exists"
   ]
  },
  {
   "cell_type": "code",
   "execution_count": null,
   "metadata": {},
   "outputs": [],
   "source": [
    "from google.colab import drive\n",
    "drive.mount('/content/drive')\n",
    "path = \" \""
   ]
  },
  {
   "cell_type": "code",
   "execution_count": 5,
   "metadata": {
    "colab": {
     "base_uri": "https://localhost:8080/"
    },
    "executionInfo": {
     "elapsed": 3363,
     "status": "ok",
     "timestamp": 1612410362159,
     "user": {
      "displayName": "ARBISH AKRAM",
      "photoUrl": "https://lh3.googleusercontent.com/a-/AOh14GibOMqRHuDtNm_9Xp51XmNXlffO1lnbt8KERz568Q=s64",
      "userId": "07144718352820072135"
     },
     "user_tz": -300
    },
    "id": "pd2K6ZwFFPel",
    "outputId": "291beddd-f24b-4d34-83fe-6b477a62f4ee"
   },
   "outputs": [
    {
     "name": "stdout",
     "output_type": "stream",
     "text": [
      "['Hello,\\n', 'This is AI lab 11\\n', '\\n', 'We are going to read data read and write and \\n', 'data visualization today.']\n"
     ]
    }
   ],
   "source": [
    "# read data from a text file \n",
    "#path = 'Downloads:/'\n",
    "nfile = open(\"f.txt\", \"r\")\n",
    "print(nfile.readlines())\n",
    "nfile.close()"
   ]
  },
  {
   "cell_type": "code",
   "execution_count": 7,
   "metadata": {
    "colab": {
     "base_uri": "https://localhost:8080/"
    },
    "executionInfo": {
     "elapsed": 1114,
     "status": "ok",
     "timestamp": 1612410428052,
     "user": {
      "displayName": "ARBISH AKRAM",
      "photoUrl": "https://lh3.googleusercontent.com/a-/AOh14GibOMqRHuDtNm_9Xp51XmNXlffO1lnbt8KERz568Q=s64",
      "userId": "07144718352820072135"
     },
     "user_tz": -300
    },
    "id": "4vlYurJviTLb",
    "outputId": "bd666038-6b18-4913-f0f4-21dde2314035"
   },
   "outputs": [
    {
     "name": "stdout",
     "output_type": "stream",
     "text": [
      "['Hello,\\n', 'This is AI lab 11\\n', '\\n', 'We are going to read data read and write and \\n', 'data visualization today.']\n"
     ]
    }
   ],
   "source": [
    "with open(\"f.txt\", \"r\") as file:\n",
    "    print(file.readlines())"
   ]
  },
  {
   "cell_type": "code",
   "execution_count": 8,
   "metadata": {
    "executionInfo": {
     "elapsed": 1111,
     "status": "ok",
     "timestamp": 1612410480032,
     "user": {
      "displayName": "ARBISH AKRAM",
      "photoUrl": "https://lh3.googleusercontent.com/a-/AOh14GibOMqRHuDtNm_9Xp51XmNXlffO1lnbt8KERz568Q=s64",
      "userId": "07144718352820072135"
     },
     "user_tz": -300
    },
    "id": "jSbwcTpUFjj5"
   },
   "outputs": [],
   "source": [
    "with open(\"f.txt\", \"a\") as file:\n",
    "     file.write(\"Lab 11\")"
   ]
  },
  {
   "cell_type": "code",
   "execution_count": 9,
   "metadata": {
    "colab": {
     "base_uri": "https://localhost:8080/"
    },
    "executionInfo": {
     "elapsed": 1133,
     "status": "ok",
     "timestamp": 1612410488559,
     "user": {
      "displayName": "ARBISH AKRAM",
      "photoUrl": "https://lh3.googleusercontent.com/a-/AOh14GibOMqRHuDtNm_9Xp51XmNXlffO1lnbt8KERz568Q=s64",
      "userId": "07144718352820072135"
     },
     "user_tz": -300
    },
    "id": "zb0mNMq4Fw_R",
    "outputId": "af628c76-6838-4afb-e818-9fc28a5ed9a6"
   },
   "outputs": [
    {
     "name": "stdout",
     "output_type": "stream",
     "text": [
      "['Hello,\\n', 'This is AI lab 11\\n', '\\n', 'We are going to read data read and write and \\n', 'data visualization today.Lab 11']\n"
     ]
    }
   ],
   "source": [
    "with open(\"f.txt\", \"r\") as file:\n",
    "    print(file.readlines())"
   ]
  },
  {
   "cell_type": "code",
   "execution_count": 10,
   "metadata": {
    "colab": {
     "base_uri": "https://localhost:8080/"
    },
    "executionInfo": {
     "elapsed": 1536,
     "status": "ok",
     "timestamp": 1612410595167,
     "user": {
      "displayName": "ARBISH AKRAM",
      "photoUrl": "https://lh3.googleusercontent.com/a-/AOh14GibOMqRHuDtNm_9Xp51XmNXlffO1lnbt8KERz568Q=s64",
      "userId": "07144718352820072135"
     },
     "user_tz": -300
    },
    "id": "5ntJy5z_in_x",
    "outputId": "8b735a30-4018-458c-fac6-afa3b20fd8d7"
   },
   "outputs": [
    {
     "name": "stdout",
     "output_type": "stream",
     "text": [
      "{'student1': 'Ali', 'Student2': 'Ahmed', 'Student3': 'Nida'}\n"
     ]
    }
   ],
   "source": [
    "import pickle\n",
    "\n",
    "mydict = {\"student1\": \"Ali\", \"Student2\": \"Ahmed\", \"Student3\": \"Nida\"}\n",
    "\n",
    "pickle.dump(mydict, open(\"store.pkl\", \"wb\"))\n",
    "\n",
    "loaded = pickle.load(open(\"store.pkl\", \"rb\"))\n",
    "print(loaded)"
   ]
  }
 ],
 "metadata": {
  "colab": {
   "authorship_tag": "ABX9TyPN7itIfEvmFUMZ/28qvLaz",
   "collapsed_sections": [],
   "name": "file handling.ipynb",
   "provenance": []
  },
  "kernelspec": {
   "display_name": "Python 3 (ipykernel)",
   "language": "python",
   "name": "python3"
  },
  "language_info": {
   "codemirror_mode": {
    "name": "ipython",
    "version": 3
   },
   "file_extension": ".py",
   "mimetype": "text/x-python",
   "name": "python",
   "nbconvert_exporter": "python",
   "pygments_lexer": "ipython3",
   "version": "3.9.7"
  }
 },
 "nbformat": 4,
 "nbformat_minor": 1
}
